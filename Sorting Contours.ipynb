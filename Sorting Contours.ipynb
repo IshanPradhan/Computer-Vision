{
 "cells": [
  {
   "cell_type": "code",
   "execution_count": 2,
   "metadata": {},
   "outputs": [
    {
     "name": "stdout",
     "output_type": "stream",
     "text": [
      "Number of contours: 4\n"
     ]
    }
   ],
   "source": [
    "import cv2\n",
    "import numpy as np\n",
    "\n",
    "image = cv2.imread(\"C:\\\\Users\\\\ishan\\\\PycharmProjects\\\\Python_Project\\\\Mastering computer Vision\\\\Image Segementation\\\\shapes.png\")\n",
    "cv2.imshow(\"Original Image\", image)\n",
    "cv2.waitKey(0)\n",
    "\n",
    "blank_image = np.zeros((image.shape[0], image.shape[1], 3))\n",
    "\n",
    "original_image = image\n",
    "\n",
    "gray = cv2.cvtColor(image, cv2.COLOR_BGR2GRAY)\n",
    "\n",
    "edged = cv2.Canny(gray, 50, 200)\n",
    "cv2.imshow(\"Canny Edged\", edged)\n",
    "cv2.waitKey(0)\n",
    "\n",
    "(_, contours, hierarchy) = cv2.findContours(edged.copy(), cv2.RETR_EXTERNAL, cv2.CHAIN_APPROX_NONE)\n",
    "print(\"Number of contours: \"+str(len(contours)))\n",
    "\n",
    "cv2.drawContours(blank_image, contours, -1, (0, 255, 3))\n",
    "cv2.imshow(\"Contours over blank image\", blank_image)\n",
    "cv2.waitKey(0)\n",
    "\n",
    "cv2.drawContours(image, contours, -1, (0, 255, 0), 3)\n",
    "cv2.imshow(\"All contours\", image)\n",
    "cv2.waitKey(0)\n",
    "\n",
    "cv2.destroyAllWindows()"
   ]
  },
  {
   "cell_type": "code",
   "execution_count": 3,
   "metadata": {},
   "outputs": [
    {
     "ename": "SyntaxError",
     "evalue": "EOL while scanning string literal (<ipython-input-3-8185b18f27fe>, line 11)",
     "output_type": "error",
     "traceback": [
      "\u001b[1;36m  File \u001b[1;32m\"<ipython-input-3-8185b18f27fe>\"\u001b[1;36m, line \u001b[1;32m11\u001b[0m\n\u001b[1;33m    image = cv2.imread(\")\u001b[0m\n\u001b[1;37m                         ^\u001b[0m\n\u001b[1;31mSyntaxError\u001b[0m\u001b[1;31m:\u001b[0m EOL while scanning string literal\n"
     ]
    }
   ],
   "source": [
    "import cv2\n",
    "import numpy as np\n",
    "\n",
    "def get_contour_areas(contours):\n",
    "    all_areas = []\n",
    "    for cnt in contours:\n",
    "        area = cv2.contourArea(cnt)\n",
    "        all_areas.append(area)\n",
    "    return all_areas\n",
    "\n",
    "image = cv2.imread(\"C:\\\\Users\\\\ishan\\\\PycharmProjects\\\\Python_Project\\\\Mastering computer Vision\\\\Image Segementation\\\\shapes.png\")\n",
    "original_image = image\n",
    "\n",
    "print(\"Contours Areas Before sorting\")\n",
    "print(get_contour_areas(contours))\n",
    "\n",
    "sorted_contours = sorted(contours, key=cv2.contourArea, reverse=True)\n",
    "\n",
    "print(\"Contour Area after sorting\")\n",
    "print(get_contour_areas(sorted_contours))\n",
    "\n",
    "for c in sorted_contours:\n",
    "    cv2.drawContours(original_image, [c], -1, (0,255,0), 3)\n",
    "    cv2.waitKey(0)\n",
    "    cv2.imshow(\"Contours By area()\")"
   ]
  }
 ],
 "metadata": {
  "kernelspec": {
   "display_name": "Python 3",
   "language": "python",
   "name": "python3"
  },
  "language_info": {
   "codemirror_mode": {
    "name": "ipython",
    "version": 3
   },
   "file_extension": ".py",
   "mimetype": "text/x-python",
   "name": "python",
   "nbconvert_exporter": "python",
   "pygments_lexer": "ipython3",
   "version": "3.6.5"
  }
 },
 "nbformat": 4,
 "nbformat_minor": 2
}
